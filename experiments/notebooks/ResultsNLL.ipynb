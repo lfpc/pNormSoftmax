{
 "cells": [
  {
   "attachments": {},
   "cell_type": "markdown",
   "metadata": {},
   "source": [
    "# Import and pre-definitions"
   ]
  },
  {
   "cell_type": "code",
   "execution_count": 1,
   "metadata": {},
   "outputs": [],
   "source": [
    "import os\n",
    "MAIN_PATH = r'/home/luis-felipe'\n",
    "DATA_PATH = os.path.join(MAIN_PATH,'data')\n",
    "PATH_MODELS = os.path.join(MAIN_PATH,'torch_models')\n",
    "FIGS_PATH = os.path.join(MAIN_PATH,'results','figs')"
   ]
  },
  {
   "cell_type": "code",
   "execution_count": 2,
   "metadata": {},
   "outputs": [],
   "source": [
    "import torch\n",
    "import matplotlib\n",
    "import matplotlib.pyplot as plt\n",
    "import numpy as np"
   ]
  },
  {
   "cell_type": "code",
   "execution_count": 3,
   "metadata": {},
   "outputs": [
    {
     "name": "stdout",
     "output_type": "stream",
     "text": [
      "True\n"
     ]
    }
   ],
   "source": [
    "# Define o computador utilizado como cuda (gpu) se existir ou cpu caso contrário\n",
    "print(torch.cuda.is_available())\n",
    "dev = torch.device('cuda') if torch.cuda.is_available() else torch.device('cpu')\n",
    "torch.set_default_dtype(torch.float64)\n",
    "torch.manual_seed(42)\n",
    "np.random.seed(42)"
   ]
  },
  {
   "cell_type": "code",
   "execution_count": 4,
   "metadata": {},
   "outputs": [],
   "source": [
    "import sys\n",
    "sys.path.insert(1, '..')\n",
    "sys.path.insert(1, '../..')\n",
    "\n",
    "import models\n",
    "from utils import measures,metrics\n",
    "from data_utils import upload_logits,split\n",
    "import pNormSoftmax"
   ]
  },
  {
   "attachments": {},
   "cell_type": "markdown",
   "metadata": {},
   "source": [
    "# Evaluate logits"
   ]
  },
  {
   "cell_type": "code",
   "execution_count": 5,
   "metadata": {},
   "outputs": [],
   "source": [
    "AUROC_min = lambda x,y: 1-metrics.AUROC(x,y)\n",
    "SAC = 0.95\n",
    "SAC_min = lambda x,y: torch.as_tensor(1-metrics.SAC(x,y,SAC))\n",
    "d_aurc = {}\n",
    "d_auroc = {}\n",
    "d_baseline_aurc = {}\n",
    "d_baseline_auroc = {}\n",
    "d_baseline_sac = {}\n",
    "d_sac = {}\n",
    "acc = {}"
   ]
  },
  {
   "cell_type": "code",
   "execution_count": 6,
   "metadata": {},
   "outputs": [
    {
     "name": "stdout",
     "output_type": "stream",
     "text": [
      "alexnet\n",
      "convnext_base\n",
      "convnext_large\n",
      "convnext_small\n",
      "convnext_tiny\n",
      "deeplabv3_mobilenet_v3_large\n",
      "cant find\n",
      "deeplabv3_resnet101\n",
      "cant find\n",
      "deeplabv3_resnet50\n",
      "cant find\n",
      "densenet121\n",
      "densenet161\n",
      "densenet169\n",
      "densenet201\n",
      "efficientnet_b0\n",
      "efficientnet_b1\n",
      "efficientnet_b2\n",
      "efficientnet_b3\n",
      "efficientnet_b4\n",
      "efficientnet_b5\n",
      "efficientnet_b6\n",
      "efficientnet_b7\n",
      "efficientnet_v2_l\n",
      "efficientnet_v2_m\n",
      "efficientnet_v2_s\n",
      "fasterrcnn_mobilenet_v3_large_320_fpn\n",
      "cant find\n",
      "fasterrcnn_mobilenet_v3_large_fpn\n",
      "cant find\n",
      "fasterrcnn_resnet50_fpn\n",
      "cant find\n",
      "fasterrcnn_resnet50_fpn_v2\n",
      "cant find\n",
      "fcn_resnet101\n",
      "cant find\n",
      "fcn_resnet50\n",
      "cant find\n",
      "fcos_resnet50_fpn\n",
      "cant find\n",
      "googlenet\n",
      "inception_v3\n",
      "keypointrcnn_resnet50_fpn\n",
      "cant find\n",
      "lraspp_mobilenet_v3_large\n",
      "cant find\n",
      "maskrcnn_resnet50_fpn\n",
      "cant find\n",
      "maskrcnn_resnet50_fpn_v2\n",
      "cant find\n",
      "maxvit_t\n",
      "mc3_18\n",
      "cant find\n",
      "mnasnet0_5\n",
      "mnasnet0_75\n",
      "mnasnet1_0\n",
      "mnasnet1_3\n",
      "mobilenet_v2\n",
      "mobilenet_v3_large\n",
      "mobilenet_v3_small\n",
      "mvit_v1_b\n",
      "cant find\n",
      "mvit_v2_s\n",
      "cant find\n",
      "quantized_googlenet\n",
      "quantized - skip\n",
      "quantized_inception_v3\n",
      "quantized - skip\n",
      "quantized_mobilenet_v2\n",
      "quantized - skip\n",
      "quantized_mobilenet_v3_large\n",
      "quantized - skip\n",
      "quantized_resnet18\n",
      "quantized - skip\n",
      "quantized_resnet50\n",
      "quantized - skip\n",
      "quantized_resnext101_32x8d\n",
      "quantized - skip\n",
      "quantized_resnext101_64x4d\n",
      "quantized - skip\n",
      "quantized_shufflenet_v2_x0_5\n",
      "quantized - skip\n",
      "quantized_shufflenet_v2_x1_0\n",
      "quantized - skip\n",
      "quantized_shufflenet_v2_x1_5\n",
      "quantized - skip\n",
      "quantized_shufflenet_v2_x2_0\n",
      "quantized - skip\n",
      "r2plus1d_18\n",
      "cant find\n",
      "r3d_18\n",
      "cant find\n",
      "raft_large\n",
      "cant find\n",
      "raft_small\n",
      "cant find\n",
      "regnet_x_16gf\n",
      "regnet_x_1_6gf\n",
      "regnet_x_32gf\n",
      "regnet_x_3_2gf\n",
      "regnet_x_400mf\n",
      "regnet_x_800mf\n",
      "regnet_x_8gf\n",
      "regnet_y_128gf\n",
      "regnet_y_16gf\n",
      "regnet_y_1_6gf\n",
      "regnet_y_32gf\n",
      "regnet_y_3_2gf\n",
      "regnet_y_400mf\n",
      "regnet_y_800mf\n",
      "regnet_y_8gf\n",
      "resnet101\n",
      "resnet152\n",
      "resnet18\n",
      "resnet34\n",
      "resnet50\n",
      "resnext101_32x8d\n",
      "resnext101_64x4d\n",
      "resnext50_32x4d\n",
      "retinanet_resnet50_fpn\n",
      "cant find\n",
      "retinanet_resnet50_fpn_v2\n",
      "cant find\n",
      "s3d\n",
      "cant find\n",
      "shufflenet_v2_x0_5\n",
      "shufflenet_v2_x1_0\n",
      "shufflenet_v2_x1_5\n",
      "shufflenet_v2_x2_0\n",
      "squeezenet1_0\n",
      "squeezenet1_1\n",
      "ssd300_vgg16\n",
      "cant find\n",
      "ssdlite320_mobilenet_v3_large\n",
      "cant find\n",
      "swin_b\n",
      "swin_s\n",
      "swin_t\n",
      "swin_v2_b\n",
      "swin_v2_s\n",
      "swin_v2_t\n",
      "vgg11\n",
      "vgg11_bn\n",
      "vgg13\n",
      "vgg13_bn\n",
      "vgg16\n",
      "vgg16_bn\n",
      "vgg19\n",
      "vgg19_bn\n",
      "vit_b_16\n",
      "vit_b_32\n",
      "vit_h_14\n",
      "vit_l_16\n",
      "vit_l_32\n",
      "wide_resnet101_2\n",
      "wide_resnet50_2\n",
      "efficientnetv2_xl\n",
      "vit_l_16_384\n",
      "vit_b_16_sam\n",
      "vit_b_32_sam\n"
     ]
    }
   ],
   "source": [
    "DATASET = 'ImageNet'\n",
    "VAL_SIZE = 0.1 #5000\n",
    "for MODEL_ARC in models.list_models():\n",
    "    print(MODEL_ARC)\n",
    "    #if MODEL_ARC in df['model'].values:\n",
    "    #    print('ja foi')\n",
    "    #    continue\n",
    "    if 'quantized' in MODEL_ARC:\n",
    "        print('quantized - skip')\n",
    "        continue\n",
    "    with torch.no_grad():\n",
    "        try: logits,labels = upload_logits(MODEL_ARC,DATASET,PATH_MODELS, \n",
    "                            split = 'test', device = dev)\n",
    "        except: \n",
    "            print('cant find')\n",
    "            continue\n",
    "    logits_val,labels_val,logits_test,labels_test = split.split_logits(logits,labels,VAL_SIZE)\n",
    "    risk_val = measures.wrong_class(logits_val,labels_val).float()\n",
    "    risk_test = measures.wrong_class(logits_test,labels_test).float()\n",
    "    acc[MODEL_ARC] = (1-risk_test.mean().item())\n",
    "    p,beta = pNormSoftmax.optimize.p_and_beta(logits_val,risk_val,metrics.AURC)\n",
    "    #T_nll = pNormSoftmax.optimize.T_fromloss(logits_val,labels_val,torch.nn.CrossEntropyLoss())\n",
    "    d_baseline_aurc[MODEL_ARC] = metrics.AURC(risk_test,measures.MSP(logits_test))\n",
    "    d_aurc[MODEL_ARC] = metrics.AURC(risk_test,pNormSoftmax.pNormSoftmax(logits_test,p,beta))\n",
    "    #d_aurc[MODEL_ARC] = metrics.AURC(risk_test,measures.MSP(logits_test.div(T_nll)))\n",
    "\n",
    "    p,beta = pNormSoftmax.optimize.p_and_beta(logits_val,risk_val,AUROC_min)\n",
    "\n",
    "    d_auroc[MODEL_ARC] = metrics.AUROC(risk_test,pNormSoftmax.pNormSoftmax(logits_test,p,beta))\n",
    "    d_baseline_auroc[MODEL_ARC] = metrics.AUROC(risk_test,measures.MSP(logits_test))\n",
    "    #d_auroc[MODEL_ARC] = metrics.AUROC(risk_test,measures.MSP(logits_test.div(T_nll)))\n",
    "    p,beta = pNormSoftmax.optimize.p_and_beta(logits_val,risk_val,AUROC_min)\n",
    "\n",
    "    d_sac[MODEL_ARC] = metrics.SAC(risk_test,pNormSoftmax.pNormSoftmax(logits_test,p,beta),SAC)\n",
    "    d_baseline_sac[MODEL_ARC] = metrics.SAC(risk_test,measures.MSP(logits_test),SAC)\n",
    "    \n",
    "    "
   ]
  },
  {
   "cell_type": "code",
   "execution_count": 7,
   "metadata": {},
   "outputs": [],
   "source": [
    "baseline_aurc = np.array(list(d_baseline_aurc.values()))\n",
    "baseline_auroc = np.array(list(d_baseline_auroc.values()))\n",
    "baseline_sac = np.array(list(d_baseline_sac.values()))\n",
    "sac = np.array(list(d_sac.values()))\n",
    "aurc = np.array(list(d_aurc.values()))\n",
    "auroc = np.array(list(d_auroc.values()))\n",
    "acc = np.array(list(acc.values()))"
   ]
  },
  {
   "cell_type": "code",
   "execution_count": 8,
   "metadata": {},
   "outputs": [
    {
     "data": {
      "text/plain": [
       "-0.022569471255318163"
      ]
     },
     "execution_count": 8,
     "metadata": {},
     "output_type": "execute_result"
    }
   ],
   "source": [
    "((auroc-baseline_auroc)).min()*100"
   ]
  },
  {
   "cell_type": "code",
   "execution_count": 9,
   "metadata": {},
   "outputs": [
    {
     "data": {
      "text/plain": [
       "51.4444873923097"
      ]
     },
     "execution_count": 9,
     "metadata": {},
     "output_type": "execute_result"
    }
   ],
   "source": [
    "((baseline_aurc-aurc)/baseline_aurc).max()*100"
   ]
  },
  {
   "cell_type": "code",
   "execution_count": 10,
   "metadata": {},
   "outputs": [
    {
     "data": {
      "text/plain": [
       "0.06975009669222765"
      ]
     },
     "execution_count": 10,
     "metadata": {},
     "output_type": "execute_result"
    }
   ],
   "source": [
    "d_baseline_aurc['efficientnetv2_xl']"
   ]
  },
  {
   "cell_type": "code",
   "execution_count": 11,
   "metadata": {},
   "outputs": [
    {
     "data": {
      "text/plain": [
       "0.03386751699327077"
      ]
     },
     "execution_count": 11,
     "metadata": {},
     "output_type": "execute_result"
    }
   ],
   "source": [
    "d_aurc['efficientnetv2_xl']"
   ]
  },
  {
   "cell_type": "code",
   "execution_count": 12,
   "metadata": {},
   "outputs": [
    {
     "data": {
      "text/plain": [
       "0.7732405309418356"
      ]
     },
     "execution_count": 12,
     "metadata": {},
     "output_type": "execute_result"
    }
   ],
   "source": [
    "d_baseline_auroc['efficientnetv2_xl']"
   ]
  },
  {
   "cell_type": "code",
   "execution_count": 20,
   "metadata": {},
   "outputs": [
    {
     "data": {
      "image/png": "[encoded data removed]",
      "text/plain": [
       "<Figure size 1000x400 with 2 Axes>"
      ]
     },
     "metadata": {},
     "output_type": "display_data"
    }
   ],
   "source": [
    "fig,axes = plt.subplots(1,2,figsize = (10,4), sharey=True)\n",
    "fig.tight_layout()\n",
    "axes[0].scatter(acc*100,baseline_sac)\n",
    "axes[0].set_title('Baseline')\n",
    "axes[0].set_ylabel('SAC - 95%')\n",
    "axes[1].scatter(acc*100,sac)\n",
    "axes[1].set_title('Optimized')\n",
    "\n",
    "for ax in axes:\n",
    "    ax.grid()\n",
    "    ax.set_xlabel('Accuracy [%]')\n",
    "plt.show()"
   ]
  },
  {
   "cell_type": "code",
   "execution_count": null,
   "metadata": {},
   "outputs": [],
   "source": []
  }
 ],
 "metadata": {
  "kernelspec": {
   "display_name": "base",
   "language": "python",
   "name": "python3"
  },
  "language_info": {
   "codemirror_mode": {
    "name": "ipython",
    "version": 3
   },
   "file_extension": ".py",
   "mimetype": "text/x-python",
   "name": "python",
   "nbconvert_exporter": "python",
   "pygments_lexer": "ipython3",
   "version": "3.10.8"
  },
  "orig_nbformat": 4
 },
 "nbformat": 4,
 "nbformat_minor": 2
}
