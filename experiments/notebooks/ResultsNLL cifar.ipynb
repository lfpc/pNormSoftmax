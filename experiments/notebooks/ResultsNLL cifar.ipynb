{
 "cells": [
  {
   "attachments": {},
   "cell_type": "markdown",
   "metadata": {},
   "source": [
    "# Import and pre-definitions"
   ]
  },
  {
   "cell_type": "code",
   "execution_count": 1,
   "metadata": {},
   "outputs": [],
   "source": [
    "import os\n",
    "MAIN_PATH = r'/home/luis-felipe'\n",
    "DATA_PATH = os.path.join(MAIN_PATH,'data')\n",
    "PATH_MODELS = os.path.join(MAIN_PATH,'torch_models')\n",
    "FIGS_PATH = os.path.join(MAIN_PATH,'results','figs')"
   ]
  },
  {
   "cell_type": "code",
   "execution_count": 2,
   "metadata": {},
   "outputs": [],
   "source": [
    "import torch\n",
    "import matplotlib\n",
    "import matplotlib.pyplot as plt\n",
    "import numpy as np"
   ]
  },
  {
   "cell_type": "code",
   "execution_count": 3,
   "metadata": {},
   "outputs": [
    {
     "name": "stdout",
     "output_type": "stream",
     "text": [
      "True\n"
     ]
    }
   ],
   "source": [
    "# Define o computador utilizado como cuda (gpu) se existir ou cpu caso contrário\n",
    "print(torch.cuda.is_available())\n",
    "dev = torch.device('cuda') if torch.cuda.is_available() else torch.device('cpu')\n",
    "torch.set_default_dtype(torch.float64)\n",
    "torch.manual_seed(42)\n",
    "np.random.seed(42)"
   ]
  },
  {
   "cell_type": "code",
   "execution_count": 4,
   "metadata": {},
   "outputs": [],
   "source": [
    "import sys\n",
    "sys.path.insert(1, '..')\n",
    "sys.path.insert(1, '../..')\n",
    "\n",
    "import models\n",
    "from utils import measures,metrics\n",
    "from data_utils import upload_logits,split\n",
    "import pNormSoftmax"
   ]
  },
  {
   "attachments": {},
   "cell_type": "markdown",
   "metadata": {},
   "source": [
    "# Evaluate logits"
   ]
  },
  {
   "cell_type": "code",
   "execution_count": 5,
   "metadata": {},
   "outputs": [],
   "source": [
    "AUROC_min = lambda x,y: 1-metrics.AUROC(x,y)\n",
    "SAC = 0.95\n",
    "SAC_min = lambda x,y: torch.as_tensor(1-metrics.SAC(x,y,SAC))\n",
    "d_aurc = {}\n",
    "d_auroc = {}\n",
    "d_baseline_aurc = {}\n",
    "d_baseline_auroc = {}\n",
    "d_baseline_sac = {}\n",
    "d_sac = {}\n",
    "acc = {}\n",
    "norm_l2 = {}\n",
    "norm_l4 = {}\n",
    "logits_mean = {}"
   ]
  },
  {
   "cell_type": "code",
   "execution_count": 6,
   "metadata": {},
   "outputs": [
    {
     "name": "stdout",
     "output_type": "stream",
     "text": [
      "DenseNet121\n",
      "DenseNet169\n",
      "DenseNet201\n",
      "DenseNet161\n",
      "SimpleDLA\n",
      "not found\n",
      "DLA\n",
      "DPN26\n",
      "DPN92\n",
      "EfficientNetB0\n",
      "GoogLeNet\n",
      "LeNet\n",
      "MobileNet\n",
      "not found\n",
      "MobileNetV2\n",
      "PNASNetA\n",
      "PNASNetB\n",
      "PreActResNet18\n",
      "not found\n",
      "PreActResNet34\n",
      "not found\n",
      "PreActResNet50\n",
      "PreActResNet101\n",
      "PreActResNet152\n",
      "RegNetX_200MF\n",
      "RegNetX_400MF\n",
      "RegNetY_400MF\n",
      "ResNet18\n",
      "ResNet34\n",
      "ResNet50\n",
      "ResNet101\n",
      "ResNet152\n",
      "ResNeXt29_2x64d\n",
      "ResNeXt29_4x64d\n",
      "ResNeXt29_8x64d\n",
      "ResNeXt29_32x4d\n",
      "SENet18\n",
      "ShuffleNetG2\n",
      "not found\n",
      "ShuffleNetG3\n",
      "not found\n",
      "ShuffleNetV2\n",
      "not found\n",
      "VGG_11\n",
      "VGG_13\n",
      "VGG_16\n",
      "VGG_19\n",
      "WideResNet28_10\n"
     ]
    }
   ],
   "source": [
    "DATASET = 'Cifar100'\n",
    "VAL_SIZE = 0.1 #5000\n",
    "for MODEL_ARC in models.list_models('cifar100'):\n",
    "    print(MODEL_ARC)\n",
    "    #if MODEL_ARC in df['model'].values:\n",
    "    #    print('ja foi')\n",
    "    #    continue\n",
    "    if 'quantized' in MODEL_ARC:\n",
    "        print('quantized - skip')\n",
    "        continue\n",
    "    with torch.no_grad():\n",
    "        try: logits,labels = upload_logits(MODEL_ARC,DATASET,PATH_MODELS, \n",
    "                            split = 'test', device = dev, data_dir = DATA_PATH)\n",
    "        except: print('not found'); continue\n",
    "\n",
    "    logits_val,labels_val,logits_test,labels_test = split.split_logits(logits,labels,VAL_SIZE)\n",
    "    risk_val = measures.wrong_class(logits_val,labels_val).float()\n",
    "    risk_test = measures.wrong_class(logits_test,labels_test).float()\n",
    "    acc[MODEL_ARC] = (1-risk_test.mean().item())\n",
    "    p,beta = pNormSoftmax.optimize.p_and_beta(logits_val,risk_val,metrics.AURC)\n",
    "    #T_nll = pNormSoftmax.optimize.T_fromloss(logits_val,labels_val,torch.nn.CrossEntropyLoss())\n",
    "    d_baseline_aurc[MODEL_ARC] = metrics.AURC(risk_test,measures.MSP(logits_test))\n",
    "    d_aurc[MODEL_ARC] = metrics.AURC(risk_test,pNormSoftmax.pNormSoftmax(logits_test,p,beta))\n",
    "    #d_aurc[MODEL_ARC] = metrics.AURC(risk_test,measures.MSP(logits_test.div(T_nll)))\n",
    "\n",
    "    p,beta = pNormSoftmax.optimize.p_and_beta(logits_val,risk_val,AUROC_min)\n",
    "\n",
    "    d_auroc[MODEL_ARC] = metrics.AUROC(risk_test,pNormSoftmax.pNormSoftmax(logits_test,p,beta))\n",
    "    d_baseline_auroc[MODEL_ARC] = metrics.AUROC(risk_test,measures.MSP(logits_test))\n",
    "    #d_auroc[MODEL_ARC] = metrics.AUROC(risk_test,measures.MSP(logits_test.div(T_nll)))\n",
    "    p,beta = pNormSoftmax.optimize.p_and_beta(logits_val,risk_val,AUROC_min)\n",
    "\n",
    "    d_sac[MODEL_ARC] = metrics.SAC(risk_test,pNormSoftmax.pNormSoftmax(logits_test,p,beta),SAC)\n",
    "    d_baseline_sac[MODEL_ARC] = metrics.SAC(risk_test,measures.MSP(logits_test),SAC)\n",
    "    norm_l2[MODEL_ARC] = pNormSoftmax.centralize(logits_test).norm(2,dim=-1).mean().item()\n",
    "    norm_l4[MODEL_ARC] = pNormSoftmax.centralize(logits_test).norm(4,dim=-1).mean().item()\n",
    "    logits_mean[MODEL_ARC] = logits_test.mean().item()\n",
    "    \n",
    "    "
   ]
  },
  {
   "cell_type": "code",
   "execution_count": 7,
   "metadata": {},
   "outputs": [],
   "source": [
    "baseline_aurc = np.array(list(d_baseline_aurc.values()))\n",
    "baseline_auroc = np.array(list(d_baseline_auroc.values()))\n",
    "baseline_sac = np.array(list(d_baseline_sac.values()))\n",
    "sac = np.array(list(d_sac.values()))\n",
    "aurc = np.array(list(d_aurc.values()))\n",
    "auroc = np.array(list(d_auroc.values()))\n",
    "acc = np.array(list(acc.values()))\n",
    "\n",
    "norm_l2 = np.array(list(norm_l2.values()))\n",
    "norm_l4 = np.array(list(norm_l4.values()))\n",
    "logits_mean = np.array(list(logits_mean.values()))"
   ]
  },
  {
   "cell_type": "code",
   "execution_count": 8,
   "metadata": {},
   "outputs": [
    {
     "data": {
      "text/plain": [
       "-0.5388720885464271"
      ]
     },
     "execution_count": 8,
     "metadata": {},
     "output_type": "execute_result"
    }
   ],
   "source": [
    "((auroc-baseline_auroc)).min()*100"
   ]
  },
  {
   "cell_type": "code",
   "execution_count": 17,
   "metadata": {},
   "outputs": [],
   "source": [
    "gain_aurc = ((baseline_aurc-aurc)/baseline_aurc)\n",
    "gain_auroc = -(baseline_auroc-auroc)"
   ]
  },
  {
   "cell_type": "code",
   "execution_count": 18,
   "metadata": {},
   "outputs": [
    {
     "data": {
      "text/plain": [
       "<matplotlib.collections.PathCollection at 0x7fabb14b32b0>"
      ]
     },
     "execution_count": 18,
     "metadata": {},
     "output_type": "execute_result"
    },
    {
     "data": {
      "image/png": "[encoded data removed]",
      "text/plain": [
       "<Figure size 640x480 with 1 Axes>"
      ]
     },
     "metadata": {},
     "output_type": "display_data"
    }
   ],
   "source": [
    "plt.scatter(norm_l4,gain_auroc)"
   ]
  },
  {
   "cell_type": "code",
   "execution_count": 19,
   "metadata": {},
   "outputs": [
    {
     "data": {
      "text/plain": [
       "<matplotlib.collections.PathCollection at 0x7fab9e47df90>"
      ]
     },
     "execution_count": 19,
     "metadata": {},
     "output_type": "execute_result"
    },
    {
     "data": {
      "image/png": "[encoded data removed]",
      "text/plain": [
       "<Figure size 640x480 with 1 Axes>"
      ]
     },
     "metadata": {},
     "output_type": "display_data"
    }
   ],
   "source": [
    "plt.scatter(logits_mean,gain_auroc)"
   ]
  },
  {
   "cell_type": "code",
   "execution_count": null,
   "metadata": {},
   "outputs": [],
   "source": []
  }
 ],
 "metadata": {
  "kernelspec": {
   "display_name": "base",
   "language": "python",
   "name": "python3"
  },
  "language_info": {
   "codemirror_mode": {
    "name": "ipython",
    "version": 3
   },
   "file_extension": ".py",
   "mimetype": "text/x-python",
   "name": "python",
   "nbconvert_exporter": "python",
   "pygments_lexer": "ipython3",
   "version": "3.10.8"
  },
  "orig_nbformat": 4
 },
 "nbformat": 4,
 "nbformat_minor": 2
}
