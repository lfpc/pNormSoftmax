{
 "cells": [
  {
   "cell_type": "code",
   "execution_count": 1,
   "metadata": {},
   "outputs": [],
   "source": [
    "import torch\n",
    "import matplotlib\n",
    "import matplotlib.pyplot as plt\n",
    "import numpy as np"
   ]
  },
  {
   "cell_type": "code",
   "execution_count": 2,
   "metadata": {},
   "outputs": [
    {
     "name": "stdout",
     "output_type": "stream",
     "text": [
      "True\n"
     ]
    }
   ],
   "source": [
    "# Define o computador utilizado como cuda (gpu) se existir ou cpu caso contrário\n",
    "print(torch.cuda.is_available())\n",
    "dev = torch.device('cuda') if torch.cuda.is_available() else torch.device('cpu')\n",
    "torch.set_default_dtype(torch.float64)\n",
    "torch.manual_seed(42)\n",
    "np.random.seed(42)"
   ]
  },
  {
   "cell_type": "code",
   "execution_count": 3,
   "metadata": {},
   "outputs": [],
   "source": [
    "import sys\n",
    "import os\n",
    "sys.path.insert(1, '..')\n",
    "sys.path.insert(1, '../..')\n",
    "\n",
    "import models\n",
    "from utils import measures,metrics\n",
    "import pNormSoftmax\n",
    "import data"
   ]
  },
  {
   "cell_type": "code",
   "execution_count": 4,
   "metadata": {},
   "outputs": [],
   "source": [
    "MAIN_PATH = r'/home/luis-felipe'\n",
    "DATA_PATH =  r'/data'\n",
    "PATH_MODELS = os.path.join(MAIN_PATH,'results','outputs')\n",
    "FIGS_PATH = os.path.join(MAIN_PATH,'results', 'figs')"
   ]
  },
  {
   "cell_type": "code",
   "execution_count": 5,
   "metadata": {},
   "outputs": [],
   "source": [
    "VAL_SIZE = 0.1\n",
    "sizes_sub = np.arange(0.05,1,0.05)"
   ]
  },
  {
   "cell_type": "code",
   "execution_count": 6,
   "metadata": {},
   "outputs": [],
   "source": [
    "AUROC_min = lambda x,y: 1-metrics.AUROC(x,y)"
   ]
  },
  {
   "cell_type": "code",
   "execution_count": 7,
   "metadata": {},
   "outputs": [],
   "source": [
    "\n",
    "outputs_val,labels_val,outputs_test,labels_test = data.split_val_test.split_logits(*data.upload_logits('resnet50',DATA = 'ImageNet', PATH_MODELS= PATH_MODELS, device = dev),VAL_SIZE)\n",
    "loss_test = measures.wrong_class(outputs_test,labels_test).float()\n",
    "T_star = pNormSoftmax.optimize.T(outputs_test,loss_test, AUROC_min)\n",
    "p_star = pNormSoftmax.optimize.p(outputs_test,loss_test, AUROC_min)\n",
    "pT_star = pNormSoftmax.optimize.p_and_beta(outputs_test,loss_test,AUROC_min)"
   ]
  },
  {
   "cell_type": "code",
   "execution_count": null,
   "metadata": {},
   "outputs": [],
   "source": [
    "auroc_baseline = 100*metrics.AUROC(outputs_test,labels_test,MCP_unc_SM(centralize_logits(outputs_test)))\n",
    "auroc_p = 100*metrics.AUROC(outputs_test,labels_test,MCP_unc_SM(norm_p_heuristic(centralize_logits(outputs_test),p_star)))\n",
    "auroc_T = 100*metrics.AUROC(outputs_test,labels_test,MCP_unc_SM(outputs_test.div(T_star)))\n",
    "auroc_pT = 100*metrics.AUROC(outputs_test,labels_test,MCP_unc_SM(norm_p_heuristic(centralize_logits(outputs_test),pT_star[0],heuristic='none').div(pT_star[1])))"
   ]
  },
  {
   "cell_type": "code",
   "execution_count": null,
   "metadata": {},
   "outputs": [],
   "source": [
    "exp_1 = []\n",
    "for r1 in range(5):\n",
    "    outputs_val,labels_val,outputs_test,labels_test = data.split_val_test.split_logits(*data.upload_logits('resnet50',DATA = 'ImageNet', PATH_MODELS= PATH_MODELS, device = dev),VAL_SIZE)\n",
    "    loss_test = measures.wrong_class(outputs_test,labels_test).float()\n",
    "    T_star = pNormSoftmax.optimize.T(outputs_test,loss_test, AUROC_min)\n",
    "    p_star = pNormSoftmax.optimize.p(outputs_test,loss_test, AUROC_min)\n",
    "    pT_star = pNormSoftmax.optimize.p_and_beta(outputs_test,loss_test,AUROC_min)\n",
    "    exp_2 = []\n",
    "    for r2 in range(5):\n",
    "        for val_size_sub in sizes_sub:\n",
    "            outputs_sub,labels_sub = data.split_val_test.split_logits(outputs_val,labels_val,val_size_sub)[:2]\n",
    "            loss_sub = measures.wrong_class(outputs_sub,labels_sub).float()\n",
    "            T_star = pNormSoftmax.optimize.T(outputs_sub,loss_sub, AUROC_min)\n",
    "            p_star = pNormSoftmax.optimize.p(outputs_sub,loss_sub, AUROC_min)\n",
    "            pT_star = pNormSoftmax.optimize.p_and_beta(outputs_sub,loss_sub,AUROC_min)\n",
    "        for l in exp_2:\n",
    "            pass #add result for size = 1\n"
   ]
  },
  {
   "cell_type": "code",
   "execution_count": null,
   "metadata": {},
   "outputs": [],
   "source": [
    "a,b = (1,2,3)[:2]"
   ]
  },
  {
   "cell_type": "code",
   "execution_count": null,
   "metadata": {},
   "outputs": [],
   "source": [
    "(1,2,3)[:2]"
   ]
  },
  {
   "cell_type": "code",
   "execution_count": null,
   "metadata": {},
   "outputs": [],
   "source": []
  }
 ],
 "metadata": {
  "kernelspec": {
   "display_name": "base",
   "language": "python",
   "name": "python3"
  },
  "language_info": {
   "codemirror_mode": {
    "name": "ipython",
    "version": 3
   },
   "file_extension": ".py",
   "mimetype": "text/x-python",
   "name": "python",
   "nbconvert_exporter": "python",
   "pygments_lexer": "ipython3",
   "version": "3.10.9"
  },
  "orig_nbformat": 4
 },
 "nbformat": 4,
 "nbformat_minor": 2
}
